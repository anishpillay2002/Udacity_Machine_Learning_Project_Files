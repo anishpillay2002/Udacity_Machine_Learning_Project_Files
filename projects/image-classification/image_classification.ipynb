{
 "cells": [
  {
   "cell_type": "markdown",
   "metadata": {
    "collapsed": true
   },
   "source": [
    "# Image Classification\n",
    "In this project, you'll classify images from the [CIFAR-10 dataset](https://www.cs.toronto.edu/~kriz/cifar.html).  The dataset consists of airplanes, dogs, cats, and other objects. You'll preprocess the images, then train a convolutional neural network on all the samples. The images need to be normalized and the labels need to be one-hot encoded.  You'll get to apply what you learned and build a convolutional, max pooling, dropout, and fully connected layers.  At the end, you'll get to see your neural network's predictions on the sample images.\n",
    "## Get the Data\n",
    "Run the following cell to download the [CIFAR-10 dataset for python](https://www.cs.toronto.edu/~kriz/cifar-10-python.tar.gz)."
   ]
  },
  {
   "cell_type": "code",
   "execution_count": 1,
   "metadata": {
    "collapsed": false
   },
   "outputs": [
    {
     "name": "stderr",
     "output_type": "stream",
     "text": [
      "CIFAR-10 Dataset: 171MB [00:16, 10.2MB/s]                              "
     ]
    },
    {
     "name": "stdout",
     "output_type": "stream",
     "text": [
      "All files found!\n"
     ]
    },
    {
     "name": "stderr",
     "output_type": "stream",
     "text": [
      "\n"
     ]
    }
   ],
   "source": [
    "\"\"\"\n",
    "DON'T MODIFY ANYTHING IN THIS CELL THAT IS BELOW THIS LINE\n",
    "\"\"\"\n",
    "from urllib.request import urlretrieve\n",
    "from os.path import isfile, isdir\n",
    "from tqdm import tqdm\n",
    "import problem_unittests as tests\n",
    "import tarfile\n",
    "\n",
    "cifar10_dataset_folder_path = 'cifar-10-batches-py'\n",
    "\n",
    "class DLProgress(tqdm):\n",
    "    last_block = 0\n",
    "\n",
    "    def hook(self, block_num=1, block_size=1, total_size=None):\n",
    "        self.total = total_size\n",
    "        self.update((block_num - self.last_block) * block_size)\n",
    "        self.last_block = block_num\n",
    "\n",
    "if not isfile('cifar-10-python.tar.gz'):\n",
    "    with DLProgress(unit='B', unit_scale=True, miniters=1, desc='CIFAR-10 Dataset') as pbar:\n",
    "        urlretrieve(\n",
    "            'https://www.cs.toronto.edu/~kriz/cifar-10-python.tar.gz',\n",
    "            'cifar-10-python.tar.gz',\n",
    "            pbar.hook)\n",
    "\n",
    "if not isdir(cifar10_dataset_folder_path):\n",
    "    with tarfile.open('cifar-10-python.tar.gz') as tar:\n",
    "        tar.extractall()\n",
    "        tar.close()\n",
    "\n",
    "\n",
    "tests.test_folder_path(cifar10_dataset_folder_path)"
   ]
  },
  {
   "cell_type": "markdown",
   "metadata": {},
   "source": [
    "## Explore the Data\n",
    "The dataset is broken into batches to prevent your machine from running out of memory.  The CIFAR-10 dataset consists of 5 batches, named `data_batch_1`, `data_batch_2`, etc.. Each batch contains the labels and images that are one of the following:\n",
    "* airplane\n",
    "* automobile\n",
    "* bird\n",
    "* cat\n",
    "* deer\n",
    "* dog\n",
    "* frog\n",
    "* horse\n",
    "* ship\n",
    "* truck\n",
    "\n",
    "Understanding a dataset is part of making predictions on the data.  Play around with the code cell below by changing the `batch_id` and `sample_id`. The `batch_id` is the id for a batch (1-5). The `sample_id` is the id for a image and label pair in the batch.\n",
    "\n",
    "Ask yourself \"What are all possible labels?\", \"What is the range of values for the image data?\", \"Are the labels in order or random?\".  Answers to questions like these will help you preprocess the data and end up with better predictions."
   ]
  },
  {
   "cell_type": "code",
   "execution_count": 2,
   "metadata": {
    "collapsed": false
   },
   "outputs": [
    {
     "name": "stdout",
     "output_type": "stream",
     "text": [
      "\n",
      "Stats of batch 1:\n",
      "Samples: 10000\n",
      "Label Counts: {0: 1005, 1: 974, 2: 1032, 3: 1016, 4: 999, 5: 937, 6: 1030, 7: 1001, 8: 1025, 9: 981}\n",
      "First 20 Labels: [6, 9, 9, 4, 1, 1, 2, 7, 8, 3, 4, 7, 7, 2, 9, 9, 9, 3, 2, 6]\n",
      "\n",
      "Example of Image 5:\n",
      "Image - Min Value: 0 Max Value: 252\n",
      "Image - Shape: (32, 32, 3)\n",
      "Label - Label Id: 1 Name: automobile\n",
      "['airplane', 'automobile', 'bird', 'cat', 'deer', 'dog', 'frog', 'horse', 'ship', 'truck']\n"
     ]
    },
    {
     "data": {
      "image/png": "[encoded data removed]",
      "text/plain": [
       "<matplotlib.figure.Figure at 0x7f181807ff98>"
      ]
     },
     "metadata": {
      "image/png": {
       "height": 250,
       "width": 253
      }
     },
     "output_type": "display_data"
    }
   ],
   "source": [
    "%matplotlib inline\n",
    "%config InlineBackend.figure_format = 'retina'\n",
    "\n",
    "import helper\n",
    "import numpy as np\n",
    "\n",
    "# Explore the dataset\n",
    "batch_id = 1\n",
    "sample_id = 5\n",
    "helper.display_stats(cifar10_dataset_folder_path, batch_id, sample_id)\n",
    "\n",
    "label_names_present = helper._load_label_names()\n",
    "print(label_names_present)"
   ]
  },
  {
   "cell_type": "markdown",
   "metadata": {},
   "source": [
    "## Implement Preprocess Functions\n",
    "### Normalize\n",
    "In the cell below, implement the `normalize` function to take in image data, `x`, and return it as a normalized Numpy array. The values should be in the range of 0 to 1, inclusive.  The return object should be the same shape as `x`."
   ]
  },
  {
   "cell_type": "code",
   "execution_count": 3,
   "metadata": {
    "collapsed": false
   },
   "outputs": [
    {
     "name": "stdout",
     "output_type": "stream",
     "text": [
      "Tests Passed\n"
     ]
    }
   ],
   "source": [
    "import matplotlib.pyplot as plt\n",
    "%matplotlib inline\n",
    "def normalize(x):\n",
    "    \"\"\"\n",
    "    Normalize a list of sample image data in the range of 0 to 1\n",
    "    : x: List of image data.  The image shape is (32, 32, 3)\n",
    "    : return: Numpy array of normalize data\n",
    "    \"\"\"\n",
    "    \n",
    "    #print(x[1])\n",
    "    # TODO: Implement Function\n",
    "    normal_images=[];\n",
    "    images=x;\n",
    "    for image in images:\n",
    "        normal_images.append(image/255)\n",
    "    \n",
    "    normal_images=np.reshape(normal_images,(-1,32,32,3))\n",
    "    return normal_images\n",
    "\n",
    "\n",
    "\"\"\"\n",
    "DON'T MODIFY ANYTHING IN THIS CELL THAT IS BELOW THIS LINE\n",
    "\"\"\"\n",
    "tests.test_normalize(normalize)"
   ]
  },
  {
   "cell_type": "markdown",
   "metadata": {},
   "source": [
    "### One-hot encode\n",
    "Just like the previous code cell, you'll be implementing a function for preprocessing.  This time, you'll implement the `one_hot_encode` function. The input, `x`, are a list of labels.  Implement the function to return the list of labels as One-Hot encoded Numpy array.  The possible values for labels are 0 to 9. The one-hot encoding function should return the same encoding for each value between each call to `one_hot_encode`.  Make sure to save the map of encodings outside the function.\n",
    "\n",
    "**Hint:**\n",
    "\n",
    "Look into LabelBinarizer in the preprocessing module of sklearn."
   ]
  },
  {
   "cell_type": "code",
   "execution_count": 4,
   "metadata": {
    "collapsed": false
   },
   "outputs": [
    {
     "name": "stdout",
     "output_type": "stream",
     "text": [
      "Tests Passed\n"
     ]
    }
   ],
   "source": [
    "from sklearn.preprocessing import OneHotEncoder\n",
    "\n",
    "def one_hot_encode(x):\n",
    "    \"\"\"\n",
    "    One hot encode a list of sample labels. Return a one-hot encoded vector for each label.\n",
    "    : x: List of sample Labels\n",
    "    : return: Numpy array of one-hot encoded labels\n",
    "    \"\"\"\n",
    "    # TODO: Implement Function\n",
    "    y=np.eye(10)[x]\n",
    "\n",
    "    return y\n",
    "\n",
    "\n",
    "\"\"\"\n",
    "DON'T MODIFY ANYTHING IN THIS CELL THAT IS BELOW THIS LINE\n",
    "\"\"\"\n",
    "tests.test_one_hot_encode(one_hot_encode)"
   ]
  },
  {
   "cell_type": "code",
   "execution_count": null,
   "metadata": {
    "collapsed": true
   },
   "outputs": [],
   "source": []
  },
  {
   "cell_type": "markdown",
   "metadata": {},
   "source": [
    "### Randomize Data\n",
    "As you saw from exploring the data above, the order of the samples are randomized.  It doesn't hurt to randomize it again, but you don't need to for this dataset."
   ]
  },
  {
   "cell_type": "markdown",
   "metadata": {},
   "source": [
    "## Preprocess all the data and save it\n",
    "Running the code cell below will preprocess all the CIFAR-10 data and save it to file. The code below also uses 10% of the training data for validation."
   ]
  },
  {
   "cell_type": "code",
   "execution_count": 5,
   "metadata": {
    "collapsed": false
   },
   "outputs": [],
   "source": [
    "\"\"\"\n",
    "DON'T MODIFY ANYTHING IN THIS CELL\n",
    "\"\"\"\n",
    "# Preprocess Training, Validation, and Testing Data\n",
    "helper.preprocess_and_save_data(cifar10_dataset_folder_path, normalize, one_hot_encode)"
   ]
  },
  {
   "cell_type": "markdown",
   "metadata": {},
   "source": [
    "# Check Point\n",
    "This is your first checkpoint.  If you ever decide to come back to this notebook or have to restart the notebook, you can start from here.  The preprocessed data has been saved to disk."
   ]
  },
  {
   "cell_type": "code",
   "execution_count": 6,
   "metadata": {
    "collapsed": true
   },
   "outputs": [],
   "source": [
    "\"\"\"\n",
    "DON'T MODIFY ANYTHING IN THIS CELL\n",
    "\"\"\"\n",
    "import pickle\n",
    "import problem_unittests as tests\n",
    "import helper\n",
    "\n",
    "# Load the Preprocessed Validation data\n",
    "valid_features, valid_labels = pickle.load(open('preprocess_validation.p', mode='rb'))"
   ]
  },
  {
   "cell_type": "markdown",
   "metadata": {},
   "source": [
    "## Build the network\n",
    "For the neural network, you'll build each layer into a function.  Most of the code you've seen has been outside of functions. To test your code more thoroughly, we require that you put each layer in a function.  This allows us to give you better feedback and test for simple mistakes using our unittests before you submit your project.\n",
    "\n",
    ">**Note:** If you're finding it hard to dedicate enough time for this course each week, we've provided a small shortcut to this part of the project. In the next couple of problems, you'll have the option to use classes from the [TensorFlow Layers](https://www.tensorflow.org/api_docs/python/tf/layers) or [TensorFlow Layers (contrib)](https://www.tensorflow.org/api_guides/python/contrib.layers) packages to build each layer, except the layers you build in the \"Convolutional and Max Pooling Layer\" section.  TF Layers is similar to Keras's and TFLearn's abstraction to layers, so it's easy to pickup.\n",
    "\n",
    ">However, if you would like to get the most out of this course, try to solve all the problems _without_ using anything from the TF Layers packages. You **can** still use classes from other packages that happen to have the same name as ones you find in TF Layers! For example, instead of using the TF Layers version of the `conv2d` class, [tf.layers.conv2d](https://www.tensorflow.org/api_docs/python/tf/layers/conv2d), you would want to use the TF Neural Network version of `conv2d`, [tf.nn.conv2d](https://www.tensorflow.org/api_docs/python/tf/nn/conv2d). \n",
    "\n",
    "Let's begin!\n",
    "\n",
    "### Input\n",
    "The neural network needs to read the image data, one-hot encoded labels, and dropout keep probability. Implement the following functions\n",
    "* Implement `neural_net_image_input`\n",
    " * Return a [TF Placeholder](https://www.tensorflow.org/api_docs/python/tf/placeholder)\n",
    " * Set the shape using `image_shape` with batch size set to `None`.\n",
    " * Name the TensorFlow placeholder \"x\" using the TensorFlow `name` parameter in the [TF Placeholder](https://www.tensorflow.org/api_docs/python/tf/placeholder).\n",
    "* Implement `neural_net_label_input`\n",
    " * Return a [TF Placeholder](https://www.tensorflow.org/api_docs/python/tf/placeholder)\n",
    " * Set the shape using `n_classes` with batch size set to `None`.\n",
    " * Name the TensorFlow placeholder \"y\" using the TensorFlow `name` parameter in the [TF Placeholder](https://www.tensorflow.org/api_docs/python/tf/placeholder).\n",
    "* Implement `neural_net_keep_prob_input`\n",
    " * Return a [TF Placeholder](https://www.tensorflow.org/api_docs/python/tf/placeholder) for dropout keep probability.\n",
    " * Name the TensorFlow placeholder \"keep_prob\" using the TensorFlow `name` parameter in the [TF Placeholder](https://www.tensorflow.org/api_docs/python/tf/placeholder).\n",
    "\n",
    "These names will be used at the end of the project to load your saved model.\n",
    "\n",
    "Note: `None` for shapes in TensorFlow allow for a dynamic size."
   ]
  },
  {
   "cell_type": "code",
   "execution_count": 7,
   "metadata": {
    "collapsed": false
   },
   "outputs": [
    {
     "name": "stdout",
     "output_type": "stream",
     "text": [
      "Image Input Tests Passed.\n",
      "10\n",
      "Label Input Tests Passed.\n",
      "Keep Prob Tests Passed.\n"
     ]
    }
   ],
   "source": [
    "import tensorflow as tf\n",
    "\n",
    "def neural_net_image_input(image_shape):\n",
    "    \"\"\"\n",
    "    Return a Tensor for a batch of image input\n",
    "    : image_shape: Shape of the images\n",
    "    : return: Tensor for image input.\n",
    "    \"\"\"\n",
    "    # TODO: Implement Function\n",
    "    \n",
    "    return tf.placeholder(tf.float32,shape = (None,image_shape[0],image_shape[1],image_shape[2]), name='x')\n",
    "\n",
    "\n",
    "def neural_net_label_input(n_classes):\n",
    "    \"\"\"\n",
    "    Return a Tensor for a batch of label input\n",
    "    : n_classes: Number of classes\n",
    "    : return: Tensor for label input.\n",
    "    \"\"\"\n",
    "    # TODO: Implement Function\n",
    "    print(n_classes)\n",
    "    return tf.placeholder(tf.float32,shape = (None,n_classes), name='y')\n",
    "\n",
    "\n",
    "def neural_net_keep_prob_input():\n",
    "    \"\"\"\n",
    "    Return a Tensor for keep probability\n",
    "    : return: Tensor for keep probability.\n",
    "    \"\"\"\n",
    "    # TODO: Implement Function\n",
    "    return tf.placeholder(tf.float32, shape = (None), name='keep_prob')\n",
    "\n",
    "\n",
    "\"\"\"\n",
    "DON'T MODIFY ANYTHING IN THIS CELL THAT IS BELOW THIS LINE\n",
    "\"\"\"\n",
    "tf.reset_default_graph()\n",
    "tests.test_nn_image_inputs(neural_net_image_input)\n",
    "tests.test_nn_label_inputs(neural_net_label_input)\n",
    "tests.test_nn_keep_prob_inputs(neural_net_keep_prob_input)"
   ]
  },
  {
   "cell_type": "markdown",
   "metadata": {},
   "source": [
    "### Convolution and Max Pooling Layer\n",
    "Convolution layers have a lot of success with images. For this code cell, you should implement the function `conv2d_maxpool` to apply convolution then max pooling:\n",
    "* Create the weight and bias using `conv_ksize`, `conv_num_outputs` and the shape of `x_tensor`.\n",
    "* Apply a convolution to `x_tensor` using weight and `conv_strides`.\n",
    " * We recommend you use same padding, but you're welcome to use any padding.\n",
    "* Add bias\n",
    "* Add a nonlinear activation to the convolution.\n",
    "* Apply Max Pooling using `pool_ksize` and `pool_strides`.\n",
    " * We recommend you use same padding, but you're welcome to use any padding.\n",
    "\n",
    "**Note:** You **can't** use [TensorFlow Layers](https://www.tensorflow.org/api_docs/python/tf/layers) or [TensorFlow Layers (contrib)](https://www.tensorflow.org/api_guides/python/contrib.layers) for **this** layer, but you can still use TensorFlow's [Neural Network](https://www.tensorflow.org/api_docs/python/tf/nn) package. You may still use the shortcut option for all the **other** layers.\n",
    "\n",
    "** Hint: **\n",
    "\n",
    "When unpacking values as an argument in Python, look into the [unpacking](https://docs.python.org/3/tutorial/controlflow.html#unpacking-argument-lists) operator. "
   ]
  },
  {
   "cell_type": "code",
   "execution_count": 8,
   "metadata": {
    "collapsed": false
   },
   "outputs": [
    {
     "name": "stdout",
     "output_type": "stream",
     "text": [
      "Tests Passed\n"
     ]
    }
   ],
   "source": [
    "def conv2d_maxpool(x_tensor, conv_num_outputs, conv_ksize, conv_strides, pool_ksize, pool_strides):\n",
    "    \"\"\"\n",
    "    Apply convolution then max pooling to x_tensor\n",
    "    :param x_tensor: TensorFlow Tensor\n",
    "    :param conv_num_outputs: Number of outputs for the convolutional layer\n",
    "    :param conv_ksize: kernal size 2-D Tuple for the convolutional layer\n",
    "    :param conv_strides: Stride 2-D Tuple for convolution\n",
    "    :param pool_ksize: kernal size 2-D Tuple for pool\n",
    "    :param pool_strides: Stride 2-D Tuple for pool\n",
    "    : return: A tensor that represents convolution and max pooling of x_tensor\n",
    "    \"\"\"\n",
    "    # TODO: Implement Function\n",
    "\n",
    "    wt_shp= list(conv_ksize) + [x_tensor.get_shape().as_list()[3], conv_num_outputs]\n",
    "    weights = tf.Variable(tf.truncated_normal(wt_shp))\n",
    "    bias =  tf.Variable(tf.zeros(conv_num_outputs))\n",
    "    \n",
    "    output = tf.nn.conv2d(x_tensor, weights, strides =[1,conv_strides[0], conv_strides[1],1], padding= 'SAME')\n",
    "    output = tf.nn.bias_add(output,bias)\n",
    "    otput = tf.nn.relu(output)\n",
    "    \n",
    "    \n",
    "    # Max Pooling\n",
    "    output = tf.nn.max_pool(output, ksize=[1, pool_ksize[0], pool_ksize[1], 1], strides=[1, pool_strides[0], pool_strides[1], 1],\n",
    "                            padding='SAME') \n",
    "    return output \n",
    "\n",
    "\n",
    "\"\"\"\n",
    "DON'T MODIFY ANYTHING IN THIS CELL THAT IS BELOW THIS LINE\n",
    "\"\"\"\n",
    "tests.test_con_pool(conv2d_maxpool)"
   ]
  },
  {
   "cell_type": "markdown",
   "metadata": {},
   "source": [
    "### Flatten Layer\n",
    "Implement the `flatten` function to change the dimension of `x_tensor` from a 4-D tensor to a 2-D tensor.  The output should be the shape (*Batch Size*, *Flattened Image Size*). Shortcut option: you can use classes from the [TensorFlow Layers](https://www.tensorflow.org/api_docs/python/tf/layers) or [TensorFlow Layers (contrib)](https://www.tensorflow.org/api_guides/python/contrib.layers) packages for this layer. For more of a challenge, only use other TensorFlow packages."
   ]
  },
  {
   "cell_type": "code",
   "execution_count": 9,
   "metadata": {
    "collapsed": false
   },
   "outputs": [
    {
     "name": "stdout",
     "output_type": "stream",
     "text": [
      "Tests Passed\n"
     ]
    }
   ],
   "source": [
    "def flatten(x_tensor):\n",
    "    \"\"\"\n",
    "    Flatten x_tensor to (Batch Size, Flattened Image Size)\n",
    "    : x_tensor: A tensor of size (Batch Size, ...), where ... are the image dimensions.\n",
    "    : return: A tensor of size (Batch Size, Flattened Image Size).\n",
    "    \"\"\"\n",
    "    # TODO: Implement Function\n",
    "    \n",
    "    tensor_shape = x_tensor.get_shape().as_list()\n",
    "    flattened_shape = np.array(tensor_shape[1:]).prod()\n",
    "    \n",
    "\n",
    "    return tf.reshape(x_tensor, [tf.shape(x_tensor)[0], flattened_shape])\n",
    "\n",
    "\n",
    "\n",
    "\"\"\"\n",
    "DON'T MODIFY ANYTHING IN THIS CELL THAT IS BELOW THIS LINE\n",
    "\"\"\"\n",
    "tests.test_flatten(flatten)"
   ]
  },
  {
   "cell_type": "markdown",
   "metadata": {},
   "source": [
    "### Fully-Connected Layer\n",
    "Implement the `fully_conn` function to apply a fully connected layer to `x_tensor` with the shape (*Batch Size*, *num_outputs*). Shortcut option: you can use classes from the [TensorFlow Layers](https://www.tensorflow.org/api_docs/python/tf/layers) or [TensorFlow Layers (contrib)](https://www.tensorflow.org/api_guides/python/contrib.layers) packages for this layer. For more of a challenge, only use other TensorFlow packages."
   ]
  },
  {
   "cell_type": "code",
   "execution_count": 10,
   "metadata": {
    "collapsed": false
   },
   "outputs": [
    {
     "name": "stdout",
     "output_type": "stream",
     "text": [
      "Tests Passed\n"
     ]
    }
   ],
   "source": [
    "def fully_conn(x_tensor, num_outputs):\n",
    "    \"\"\"\n",
    "    Apply a fully connected layer to x_tensor using weight and bias\n",
    "    : x_tensor: A 2-D tensor where the first dimension is batch size.\n",
    "    : num_outputs: The number of output that the new tensor should be.\n",
    "    : return: A 2-D tensor where the second dimension is num_outputs.\n",
    "    \"\"\"\n",
    "    # TODO: Implement Function\n",
    "    \n",
    "    flattened_shape = np.array(x_tensor.get_shape().as_list()[1:]).prod()\n",
    "    weights = tf.Variable(tf.truncated_normal([flattened_shape, num_outputs], stddev=0.04))\n",
    "    bias = tf.Variable(tf.zeros([num_outputs]))\n",
    "\n",
    "    \n",
    "    fc = tf.nn.relu(tf.add(tf.matmul(x_tensor, weights), bias))   \n",
    "    return fc\n",
    "\n",
    "\n",
    "\"\"\"\n",
    "DON'T MODIFY ANYTHING IN THIS CELL THAT IS BELOW THIS LINE\n",
    "\"\"\"\n",
    "tests.test_fully_conn(fully_conn)"
   ]
  },
  {
   "cell_type": "markdown",
   "metadata": {},
   "source": [
    "### Output Layer\n",
    "Implement the `output` function to apply a fully connected layer to `x_tensor` with the shape (*Batch Size*, *num_outputs*). Shortcut option: you can use classes from the [TensorFlow Layers](https://www.tensorflow.org/api_docs/python/tf/layers) or [TensorFlow Layers (contrib)](https://www.tensorflow.org/api_guides/python/contrib.layers) packages for this layer. For more of a challenge, only use other TensorFlow packages.\n",
    "\n",
    "**Note:** Activation, softmax, or cross entropy should **not** be applied to this."
   ]
  },
  {
   "cell_type": "code",
   "execution_count": 11,
   "metadata": {
    "collapsed": false
   },
   "outputs": [
    {
     "name": "stdout",
     "output_type": "stream",
     "text": [
      "Tests Passed\n"
     ]
    }
   ],
   "source": [
    "def output(x_tensor, num_outputs):\n",
    "    \"\"\"\n",
    "    Apply a output layer to x_tensor using weight and bias\n",
    "    : x_tensor: A 2-D tensor where the first dimension is batch size.\n",
    "    : num_outputs: The number of output that the new tensor should be.\n",
    "    : return: A 2-D tensor where the second dimension is num_outputs.\n",
    "    \"\"\"\n",
    "    # TODO: Implement Function\n",
    "    \n",
    "    flattened_shape = np.array(x_tensor.get_shape().as_list()[1:]).prod()\n",
    "    weights = tf.Variable(tf.truncated_normal([flattened_shape, num_outputs], stddev=0.04))\n",
    "    bias = tf.Variable(tf.zeros([num_outputs]))\n",
    "    \n",
    "    \n",
    "    \n",
    "    \n",
    "    return tf.add(tf.matmul(x_tensor, weights), bias)\n",
    "\n",
    "\n",
    "\"\"\"\n",
    "DON'T MODIFY ANYTHING IN THIS CELL THAT IS BELOW THIS LINE\n",
    "\"\"\"\n",
    "tests.test_output(output)"
   ]
  },
  {
   "cell_type": "markdown",
   "metadata": {},
   "source": [
    "### Create Convolutional Model\n",
    "Implement the function `conv_net` to create a convolutional neural network model. The function takes in a batch of images, `x`, and outputs logits.  Use the layers you created above to create this model:\n",
    "\n",
    "* Apply 1, 2, or 3 Convolution and Max Pool layers\n",
    "* Apply a Flatten Layer\n",
    "* Apply 1, 2, or 3 Fully Connected Layers\n",
    "* Apply an Output Layer\n",
    "* Return the output\n",
    "* Apply [TensorFlow's Dropout](https://www.tensorflow.org/api_docs/python/tf/nn/dropout) to one or more layers in the model using `keep_prob`. "
   ]
  },
  {
   "cell_type": "code",
   "execution_count": 44,
   "metadata": {
    "collapsed": false
   },
   "outputs": [
    {
     "name": "stdout",
     "output_type": "stream",
     "text": [
      "10\n",
      "Neural Network Built!\n"
     ]
    }
   ],
   "source": [
    "def conv_net(x, keep_prob , num_classes=10):\n",
    "    \"\"\"\n",
    "    Create a convolutional neural network model\n",
    "    : x: Placeholder tensor that holds image data.\n",
    "    : keep_prob: Placeholder tensor that hold dropout keep probability.\n",
    "    : return: Tensor that represents logits\n",
    "    \"\"\"\n",
    "    # TODO: Apply 1, 2, or 3 Convolution and Max Pool layers\n",
    "    #    Play around with different number of outputs, kernel size and stride\n",
    "    # Function Definition from Above:\n",
    "    #    conv2d_maxpool(x_tensor, conv_num_outputs, conv_ksize, conv_strides, pool_ksize, pool_strides)\n",
    "    conv = conv2d_maxpool(x,\n",
    "                           conv_num_outputs=64,\n",
    "                           conv_ksize=[5,5],\n",
    "                           conv_strides=[1,1],\n",
    "                           pool_ksize=[3,3],\n",
    "                           pool_strides=[2,2])\n",
    "\n",
    "    conv = conv2d_maxpool(conv,\n",
    "                       conv_num_outputs=64,\n",
    "                       conv_ksize=[5,5],\n",
    "                       conv_strides=[1,1],\n",
    "                       pool_ksize=[3,3],\n",
    "                       pool_strides=[2,2])\n",
    "\n",
    "    # TODO: Apply a Flatten Layer\n",
    "    # Function Definition from Above:\n",
    "    #   flatten(x_tensor)\n",
    "    \n",
    "    flattened_conv = flatten(conv)\n",
    "    \n",
    "\n",
    "    # TODO: Apply 1, 2, or 3 Fully Connected Layers\n",
    "    #    Play around with different number of outputs\n",
    "    # Function Definition from Above:\n",
    "    #   fully_conn(x_tensor, num_outputs)\n",
    "\n",
    "    fc = fully_conn(flattened_conv, 384)\n",
    "    fc = fully_conn(fc, 192)\n",
    "    \n",
    "\n",
    "    # TODO: Apply an Output Layer\n",
    "    #    Set this to the number of classes\n",
    "    # Function Definition from Above:\n",
    "    #   output(x_tensor, num_outputs)\n",
    "    fc = tf.nn.dropout(fc, keep_prob)\n",
    "    \n",
    "    # TODO: return output\n",
    "    return output(fc, num_classes)    \n",
    "\n",
    "\n",
    "\"\"\"\n",
    "DON'T MODIFY ANYTHING IN THIS CELL THAT IS BELOW THIS LINE\n",
    "\"\"\"\n",
    "\n",
    "##############################\n",
    "## Build the Neural Network ##\n",
    "##############################\n",
    "\n",
    "# Remove previous weights, bias, inputs, etc..\n",
    "tf.reset_default_graph()\n",
    "\n",
    "# Inputs\n",
    "x = neural_net_image_input((32, 32, 3))\n",
    "y = neural_net_label_input(10)\n",
    "keep_prob = neural_net_keep_prob_input()\n",
    "\n",
    "# Model\n",
    "logits = conv_net(x, keep_prob)\n",
    "\n",
    "# Name logits Tensor, so that is can be loaded from disk after training\n",
    "logits = tf.identity(logits, name='logits')\n",
    "\n",
    "# Loss and Optimizer\n",
    "cost = tf.reduce_mean(tf.nn.softmax_cross_entropy_with_logits(logits=logits, labels=y))\n",
    "optimizer = tf.train.AdamOptimizer().minimize(cost)\n",
    "\n",
    "# Accuracy\n",
    "correct_pred = tf.equal(tf.argmax(logits, 1), tf.argmax(y, 1))\n",
    "accuracy = tf.reduce_mean(tf.cast(correct_pred, tf.float32), name='accuracy')\n",
    "\n",
    "tests.test_conv_net(conv_net)"
   ]
  },
  {
   "cell_type": "markdown",
   "metadata": {},
   "source": [
    "## Train the Neural Network\n",
    "### Single Optimization\n",
    "Implement the function `train_neural_network` to do a single optimization.  The optimization should use `optimizer` to optimize in `session` with a `feed_dict` of the following:\n",
    "* `x` for image input\n",
    "* `y` for labels\n",
    "* `keep_prob` for keep probability for dropout\n",
    "\n",
    "This function will be called for each batch, so `tf.global_variables_initializer()` has already been called.\n",
    "\n",
    "Note: Nothing needs to be returned. This function is only optimizing the neural network."
   ]
  },
  {
   "cell_type": "code",
   "execution_count": 45,
   "metadata": {
    "collapsed": false
   },
   "outputs": [
    {
     "name": "stdout",
     "output_type": "stream",
     "text": [
      "Tests Passed\n"
     ]
    }
   ],
   "source": [
    "def train_neural_network(session, optimizer, keep_probability, feature_batch, label_batch):\n",
    "    \"\"\"\n",
    "    Optimize the session on a batch of images and labels\n",
    "    : session: Current TensorFlow session\n",
    "    : optimizer: TensorFlow optimizer function\n",
    "    : keep_probability: keep probability\n",
    "    : feature_batch: Batch of Numpy image data\n",
    "    : label_batch: Batch of Numpy label data\n",
    "    \"\"\"\n",
    "    # TODO: Implement Function\n",
    "    session.run(optimizer, feed_dict={x: feature_batch,\n",
    "                                      y: label_batch,\n",
    "                                      keep_prob: keep_probability})\n",
    "\n",
    "\n",
    "\n",
    "\"\"\"\n",
    "DON'T MODIFY ANYTHING IN THIS CELL THAT IS BELOW THIS LINE\n",
    "\"\"\"\n",
    "tests.test_train_nn(train_neural_network)"
   ]
  },
  {
   "cell_type": "markdown",
   "metadata": {},
   "source": [
    "### Show Stats\n",
    "Implement the function `print_stats` to print loss and validation accuracy.  Use the global variables `valid_features` and `valid_labels` to calculate validation accuracy.  Use a keep probability of `1.0` to calculate the loss and validation accuracy."
   ]
  },
  {
   "cell_type": "code",
   "execution_count": 46,
   "metadata": {
    "collapsed": true
   },
   "outputs": [],
   "source": [
    "def print_stats(session, feature_batch, label_batch, cost, accuracy):\n",
    "    \"\"\"\n",
    "    Print information about loss and validation accuracy\n",
    "    : session: Current TensorFlow session\n",
    "    : feature_batch: Batch of Numpy image data\n",
    "    : label_batch: Batch of Numpy label data\n",
    "    : cost: TensorFlow cost function\n",
    "    : accuracy: TensorFlow accuracy function\n",
    "    \"\"\"\n",
    "    # TODO: Implement Function\n",
    "        # Calculate batch loss and accuracy\n",
    "    loss = sess.run(cost, feed_dict={x: feature_batch,\n",
    "                                     y: label_batch,\n",
    "                                     keep_prob: 1.})\n",
    "    valid_acc = sess.run(accuracy, feed_dict={x: valid_features,\n",
    "                                              y: valid_labels,\n",
    "                                              keep_prob: 1.})\n",
    "\n",
    "    print('Loss: {:>10.4f} Validation Accuracy: {:.6f}'.format(loss, valid_acc))"
   ]
  },
  {
   "cell_type": "markdown",
   "metadata": {},
   "source": [
    "### Hyperparameters\n",
    "Tune the following parameters:\n",
    "* Set `epochs` to the number of iterations until the network stops learning or start overfitting\n",
    "* Set `batch_size` to the highest number that your machine has memory for.  Most people set them to common sizes of memory:\n",
    " * 64\n",
    " * 128\n",
    " * 256\n",
    " * ...\n",
    "* Set `keep_probability` to the probability of keeping a node using dropout"
   ]
  },
  {
   "cell_type": "code",
   "execution_count": 47,
   "metadata": {
    "collapsed": true
   },
   "outputs": [],
   "source": [
    "# TODO: Tune Parameters\n",
    "epochs = 42\n",
    "batch_size = 256\n",
    "keep_probability = 0.77"
   ]
  },
  {
   "cell_type": "markdown",
   "metadata": {},
   "source": [
    "### Train on a Single CIFAR-10 Batch\n",
    "Instead of training the neural network on all the CIFAR-10 batches of data, let's use a single batch. This should save time while you iterate on the model to get a better accuracy.  Once the final validation accuracy is 50% or greater, run the model on all the data in the next section."
   ]
  },
  {
   "cell_type": "code",
   "execution_count": 48,
   "metadata": {
    "collapsed": false
   },
   "outputs": [
    {
     "name": "stdout",
     "output_type": "stream",
     "text": [
      "Checking the Training on a Single Batch...\n",
      "Epoch  1, CIFAR-10 Batch 1:  Loss:     2.3830 Validation Accuracy: 0.181600\n",
      "Epoch  2, CIFAR-10 Batch 1:  Loss:     2.2103 Validation Accuracy: 0.230000\n",
      "Epoch  3, CIFAR-10 Batch 1:  Loss:     2.1413 Validation Accuracy: 0.267400\n",
      "Epoch  4, CIFAR-10 Batch 1:  Loss:     1.9820 Validation Accuracy: 0.296400\n",
      "Epoch  5, CIFAR-10 Batch 1:  Loss:     1.9036 Validation Accuracy: 0.304200\n",
      "Epoch  6, CIFAR-10 Batch 1:  Loss:     1.7813 Validation Accuracy: 0.330200\n",
      "Epoch  7, CIFAR-10 Batch 1:  Loss:     1.7522 Validation Accuracy: 0.354600\n",
      "Epoch  8, CIFAR-10 Batch 1:  Loss:     1.5932 Validation Accuracy: 0.398000\n",
      "Epoch  9, CIFAR-10 Batch 1:  Loss:     1.5359 Validation Accuracy: 0.397200\n",
      "Epoch 10, CIFAR-10 Batch 1:  Loss:     1.4394 Validation Accuracy: 0.408600\n",
      "Epoch 11, CIFAR-10 Batch 1:  Loss:     1.4098 Validation Accuracy: 0.371200\n",
      "Epoch 12, CIFAR-10 Batch 1:  Loss:     1.3262 Validation Accuracy: 0.420800\n",
      "Epoch 13, CIFAR-10 Batch 1:  Loss:     1.2963 Validation Accuracy: 0.438800\n",
      "Epoch 14, CIFAR-10 Batch 1:  Loss:     1.1890 Validation Accuracy: 0.419800\n",
      "Epoch 15, CIFAR-10 Batch 1:  Loss:     1.1451 Validation Accuracy: 0.446400\n",
      "Epoch 16, CIFAR-10 Batch 1:  Loss:     1.0680 Validation Accuracy: 0.441600\n",
      "Epoch 17, CIFAR-10 Batch 1:  Loss:     1.0836 Validation Accuracy: 0.456800\n",
      "Epoch 18, CIFAR-10 Batch 1:  Loss:     1.0251 Validation Accuracy: 0.447600\n",
      "Epoch 19, CIFAR-10 Batch 1:  Loss:     0.9782 Validation Accuracy: 0.447400\n",
      "Epoch 20, CIFAR-10 Batch 1:  Loss:     0.9435 Validation Accuracy: 0.456200\n",
      "Epoch 21, CIFAR-10 Batch 1:  Loss:     0.8866 Validation Accuracy: 0.468800\n",
      "Epoch 22, CIFAR-10 Batch 1:  Loss:     0.8648 Validation Accuracy: 0.492000\n",
      "Epoch 23, CIFAR-10 Batch 1:  Loss:     0.7954 Validation Accuracy: 0.492400\n",
      "Epoch 24, CIFAR-10 Batch 1:  Loss:     0.7336 Validation Accuracy: 0.493600\n",
      "Epoch 25, CIFAR-10 Batch 1:  Loss:     0.8180 Validation Accuracy: 0.443200\n",
      "Epoch 26, CIFAR-10 Batch 1:  Loss:     0.7398 Validation Accuracy: 0.489600\n",
      "Epoch 27, CIFAR-10 Batch 1:  Loss:     0.7145 Validation Accuracy: 0.463200\n",
      "Epoch 28, CIFAR-10 Batch 1:  Loss:     0.6437 Validation Accuracy: 0.500200\n",
      "Epoch 29, CIFAR-10 Batch 1:  Loss:     0.5983 Validation Accuracy: 0.520200\n",
      "Epoch 30, CIFAR-10 Batch 1:  Loss:     0.5973 Validation Accuracy: 0.502800\n",
      "Epoch 31, CIFAR-10 Batch 1:  Loss:     0.5651 Validation Accuracy: 0.497600\n",
      "Epoch 32, CIFAR-10 Batch 1:  Loss:     0.5044 Validation Accuracy: 0.509600\n",
      "Epoch 33, CIFAR-10 Batch 1:  Loss:     0.4388 Validation Accuracy: 0.512400\n",
      "Epoch 34, CIFAR-10 Batch 1:  Loss:     0.4203 Validation Accuracy: 0.529200\n",
      "Epoch 35, CIFAR-10 Batch 1:  Loss:     0.4113 Validation Accuracy: 0.516800\n",
      "Epoch 36, CIFAR-10 Batch 1:  Loss:     0.4895 Validation Accuracy: 0.503400\n",
      "Epoch 37, CIFAR-10 Batch 1:  Loss:     0.4381 Validation Accuracy: 0.494200\n",
      "Epoch 38, CIFAR-10 Batch 1:  Loss:     0.4375 Validation Accuracy: 0.515400\n",
      "Epoch 39, CIFAR-10 Batch 1:  Loss:     0.3518 Validation Accuracy: 0.531600\n",
      "Epoch 40, CIFAR-10 Batch 1:  Loss:     0.3041 Validation Accuracy: 0.525800\n",
      "Epoch 41, CIFAR-10 Batch 1:  Loss:     0.3143 Validation Accuracy: 0.528200\n",
      "Epoch 42, CIFAR-10 Batch 1:  Loss:     0.2947 Validation Accuracy: 0.528600\n"
     ]
    }
   ],
   "source": [
    "\"\"\"\n",
    "DON'T MODIFY ANYTHING IN THIS CELL\n",
    "\"\"\"\n",
    "print('Checking the Training on a Single Batch...')\n",
    "with tf.Session() as sess:\n",
    "    # Initializing the variables\n",
    "    sess.run(tf.global_variables_initializer())\n",
    "    \n",
    "    # Training cycle\n",
    "    for epoch in range(epochs):\n",
    "        batch_i = 1\n",
    "        for batch_features, batch_labels in helper.load_preprocess_training_batch(batch_i, batch_size):\n",
    "            train_neural_network(sess, optimizer, keep_probability, batch_features, batch_labels)\n",
    "        print('Epoch {:>2}, CIFAR-10 Batch {}:  '.format(epoch + 1, batch_i), end='')\n",
    "        print_stats(sess, batch_features, batch_labels, cost, accuracy)"
   ]
  },
  {
   "cell_type": "markdown",
   "metadata": {},
   "source": [
    "### Fully Train the Model\n",
    "Now that you got a good accuracy with a single CIFAR-10 batch, try it with all five batches."
   ]
  },
  {
   "cell_type": "code",
   "execution_count": 49,
   "metadata": {
    "collapsed": false
   },
   "outputs": [
    {
     "name": "stdout",
     "output_type": "stream",
     "text": [
      "Training...\n",
      "Epoch  1, CIFAR-10 Batch 1:  Loss:     2.3356 Validation Accuracy: 0.160600\n",
      "Epoch  1, CIFAR-10 Batch 2:  Loss:     2.1893 Validation Accuracy: 0.221000\n",
      "Epoch  1, CIFAR-10 Batch 3:  Loss:     1.9698 Validation Accuracy: 0.259000\n",
      "Epoch  1, CIFAR-10 Batch 4:  Loss:     1.9213 Validation Accuracy: 0.268600\n",
      "Epoch  1, CIFAR-10 Batch 5:  Loss:     1.8281 Validation Accuracy: 0.318000\n",
      "Epoch  2, CIFAR-10 Batch 1:  Loss:     1.8996 Validation Accuracy: 0.323400\n",
      "Epoch  2, CIFAR-10 Batch 2:  Loss:     1.8106 Validation Accuracy: 0.324400\n",
      "Epoch  2, CIFAR-10 Batch 3:  Loss:     1.6316 Validation Accuracy: 0.359200\n",
      "Epoch  2, CIFAR-10 Batch 4:  Loss:     1.6742 Validation Accuracy: 0.389200\n",
      "Epoch  2, CIFAR-10 Batch 5:  Loss:     1.6082 Validation Accuracy: 0.410600\n",
      "Epoch  3, CIFAR-10 Batch 1:  Loss:     1.5528 Validation Accuracy: 0.421400\n",
      "Epoch  3, CIFAR-10 Batch 2:  Loss:     1.5545 Validation Accuracy: 0.415400\n",
      "Epoch  3, CIFAR-10 Batch 3:  Loss:     1.3803 Validation Accuracy: 0.461800\n",
      "Epoch  3, CIFAR-10 Batch 4:  Loss:     1.4298 Validation Accuracy: 0.453800\n",
      "Epoch  3, CIFAR-10 Batch 5:  Loss:     1.4485 Validation Accuracy: 0.464000\n",
      "Epoch  4, CIFAR-10 Batch 1:  Loss:     1.4547 Validation Accuracy: 0.468200\n",
      "Epoch  4, CIFAR-10 Batch 2:  Loss:     1.3689 Validation Accuracy: 0.464600\n",
      "Epoch  4, CIFAR-10 Batch 3:  Loss:     1.2636 Validation Accuracy: 0.484600\n",
      "Epoch  4, CIFAR-10 Batch 4:  Loss:     1.2735 Validation Accuracy: 0.498600\n",
      "Epoch  4, CIFAR-10 Batch 5:  Loss:     1.3441 Validation Accuracy: 0.492200\n",
      "Epoch  5, CIFAR-10 Batch 1:  Loss:     1.3875 Validation Accuracy: 0.495800\n",
      "Epoch  5, CIFAR-10 Batch 2:  Loss:     1.2373 Validation Accuracy: 0.486600\n",
      "Epoch  5, CIFAR-10 Batch 3:  Loss:     1.1218 Validation Accuracy: 0.517800\n",
      "Epoch  5, CIFAR-10 Batch 4:  Loss:     1.2171 Validation Accuracy: 0.520400\n",
      "Epoch  5, CIFAR-10 Batch 5:  Loss:     1.2124 Validation Accuracy: 0.507600\n",
      "Epoch  6, CIFAR-10 Batch 1:  Loss:     1.3727 Validation Accuracy: 0.524200\n",
      "Epoch  6, CIFAR-10 Batch 2:  Loss:     1.1628 Validation Accuracy: 0.521400\n",
      "Epoch  6, CIFAR-10 Batch 3:  Loss:     1.0334 Validation Accuracy: 0.516200\n",
      "Epoch  6, CIFAR-10 Batch 4:  Loss:     1.0736 Validation Accuracy: 0.530400\n",
      "Epoch  6, CIFAR-10 Batch 5:  Loss:     1.1604 Validation Accuracy: 0.526400\n",
      "Epoch  7, CIFAR-10 Batch 1:  Loss:     1.1464 Validation Accuracy: 0.529400\n",
      "Epoch  7, CIFAR-10 Batch 2:  Loss:     1.0779 Validation Accuracy: 0.527200\n",
      "Epoch  7, CIFAR-10 Batch 3:  Loss:     0.9238 Validation Accuracy: 0.537800\n",
      "Epoch  7, CIFAR-10 Batch 4:  Loss:     1.0717 Validation Accuracy: 0.532800\n",
      "Epoch  7, CIFAR-10 Batch 5:  Loss:     1.0787 Validation Accuracy: 0.545600\n",
      "Epoch  8, CIFAR-10 Batch 1:  Loss:     1.0391 Validation Accuracy: 0.540600\n",
      "Epoch  8, CIFAR-10 Batch 2:  Loss:     0.8554 Validation Accuracy: 0.529600\n",
      "Epoch  8, CIFAR-10 Batch 3:  Loss:     0.8741 Validation Accuracy: 0.535800\n",
      "Epoch  8, CIFAR-10 Batch 4:  Loss:     0.9244 Validation Accuracy: 0.554800\n",
      "Epoch  8, CIFAR-10 Batch 5:  Loss:     0.9435 Validation Accuracy: 0.563400\n",
      "Epoch  9, CIFAR-10 Batch 1:  Loss:     0.9850 Validation Accuracy: 0.546400\n",
      "Epoch  9, CIFAR-10 Batch 2:  Loss:     0.7600 Validation Accuracy: 0.545200\n",
      "Epoch  9, CIFAR-10 Batch 3:  Loss:     0.7999 Validation Accuracy: 0.547800\n",
      "Epoch  9, CIFAR-10 Batch 4:  Loss:     0.8523 Validation Accuracy: 0.562600\n",
      "Epoch  9, CIFAR-10 Batch 5:  Loss:     0.8490 Validation Accuracy: 0.573600\n",
      "Epoch 10, CIFAR-10 Batch 1:  Loss:     0.8767 Validation Accuracy: 0.549800\n",
      "Epoch 10, CIFAR-10 Batch 2:  Loss:     0.7034 Validation Accuracy: 0.545400\n",
      "Epoch 10, CIFAR-10 Batch 3:  Loss:     0.7296 Validation Accuracy: 0.566200\n",
      "Epoch 10, CIFAR-10 Batch 4:  Loss:     0.8230 Validation Accuracy: 0.572200\n",
      "Epoch 10, CIFAR-10 Batch 5:  Loss:     0.7994 Validation Accuracy: 0.573400\n",
      "Epoch 11, CIFAR-10 Batch 1:  Loss:     0.7599 Validation Accuracy: 0.581000\n",
      "Epoch 11, CIFAR-10 Batch 2:  Loss:     0.6423 Validation Accuracy: 0.570000\n",
      "Epoch 11, CIFAR-10 Batch 3:  Loss:     0.6798 Validation Accuracy: 0.581600\n",
      "Epoch 11, CIFAR-10 Batch 4:  Loss:     0.7156 Validation Accuracy: 0.575000\n",
      "Epoch 11, CIFAR-10 Batch 5:  Loss:     0.7662 Validation Accuracy: 0.586400\n",
      "Epoch 12, CIFAR-10 Batch 1:  Loss:     0.7019 Validation Accuracy: 0.570200\n",
      "Epoch 12, CIFAR-10 Batch 2:  Loss:     0.5885 Validation Accuracy: 0.581400\n",
      "Epoch 12, CIFAR-10 Batch 3:  Loss:     0.6026 Validation Accuracy: 0.593000\n",
      "Epoch 12, CIFAR-10 Batch 4:  Loss:     0.6831 Validation Accuracy: 0.572200\n",
      "Epoch 12, CIFAR-10 Batch 5:  Loss:     0.6714 Validation Accuracy: 0.589200\n",
      "Epoch 13, CIFAR-10 Batch 1:  Loss:     0.7426 Validation Accuracy: 0.561400\n",
      "Epoch 13, CIFAR-10 Batch 2:  Loss:     0.5725 Validation Accuracy: 0.588400\n",
      "Epoch 13, CIFAR-10 Batch 3:  Loss:     0.5398 Validation Accuracy: 0.601600\n",
      "Epoch 13, CIFAR-10 Batch 4:  Loss:     0.6084 Validation Accuracy: 0.596600\n",
      "Epoch 13, CIFAR-10 Batch 5:  Loss:     0.5588 Validation Accuracy: 0.599000\n",
      "Epoch 14, CIFAR-10 Batch 1:  Loss:     0.6708 Validation Accuracy: 0.581600\n",
      "Epoch 14, CIFAR-10 Batch 2:  Loss:     0.5024 Validation Accuracy: 0.605000\n",
      "Epoch 14, CIFAR-10 Batch 3:  Loss:     0.5215 Validation Accuracy: 0.599200\n",
      "Epoch 14, CIFAR-10 Batch 4:  Loss:     0.5847 Validation Accuracy: 0.605400\n",
      "Epoch 14, CIFAR-10 Batch 5:  Loss:     0.5340 Validation Accuracy: 0.612800\n",
      "Epoch 15, CIFAR-10 Batch 1:  Loss:     0.6668 Validation Accuracy: 0.591200\n",
      "Epoch 15, CIFAR-10 Batch 2:  Loss:     0.4441 Validation Accuracy: 0.597200\n",
      "Epoch 15, CIFAR-10 Batch 3:  Loss:     0.4532 Validation Accuracy: 0.611800\n",
      "Epoch 15, CIFAR-10 Batch 4:  Loss:     0.5322 Validation Accuracy: 0.610400\n",
      "Epoch 15, CIFAR-10 Batch 5:  Loss:     0.5134 Validation Accuracy: 0.622600\n",
      "Epoch 16, CIFAR-10 Batch 1:  Loss:     0.6287 Validation Accuracy: 0.599400\n",
      "Epoch 16, CIFAR-10 Batch 2:  Loss:     0.4350 Validation Accuracy: 0.615400\n",
      "Epoch 16, CIFAR-10 Batch 3:  Loss:     0.3788 Validation Accuracy: 0.623000\n",
      "Epoch 16, CIFAR-10 Batch 4:  Loss:     0.4708 Validation Accuracy: 0.617600\n",
      "Epoch 16, CIFAR-10 Batch 5:  Loss:     0.4600 Validation Accuracy: 0.632400\n",
      "Epoch 17, CIFAR-10 Batch 1:  Loss:     0.5113 Validation Accuracy: 0.617800\n",
      "Epoch 17, CIFAR-10 Batch 2:  Loss:     0.3416 Validation Accuracy: 0.622200\n",
      "Epoch 17, CIFAR-10 Batch 3:  Loss:     0.3375 Validation Accuracy: 0.614800\n",
      "Epoch 17, CIFAR-10 Batch 4:  Loss:     0.4296 Validation Accuracy: 0.618400\n",
      "Epoch 17, CIFAR-10 Batch 5:  Loss:     0.4020 Validation Accuracy: 0.627400\n",
      "Epoch 18, CIFAR-10 Batch 1:  Loss:     0.4632 Validation Accuracy: 0.625800\n",
      "Epoch 18, CIFAR-10 Batch 2:  Loss:     0.2850 Validation Accuracy: 0.635200\n",
      "Epoch 18, CIFAR-10 Batch 3:  Loss:     0.2544 Validation Accuracy: 0.634400\n",
      "Epoch 18, CIFAR-10 Batch 4:  Loss:     0.4373 Validation Accuracy: 0.623000\n",
      "Epoch 18, CIFAR-10 Batch 5:  Loss:     0.3514 Validation Accuracy: 0.628400\n",
      "Epoch 19, CIFAR-10 Batch 1:  Loss:     0.4498 Validation Accuracy: 0.615600\n",
      "Epoch 19, CIFAR-10 Batch 2:  Loss:     0.2596 Validation Accuracy: 0.630000\n",
      "Epoch 19, CIFAR-10 Batch 3:  Loss:     0.2484 Validation Accuracy: 0.622200\n",
      "Epoch 19, CIFAR-10 Batch 4:  Loss:     0.3631 Validation Accuracy: 0.620400\n",
      "Epoch 19, CIFAR-10 Batch 5:  Loss:     0.3341 Validation Accuracy: 0.627200\n",
      "Epoch 20, CIFAR-10 Batch 1:  Loss:     0.3832 Validation Accuracy: 0.610400\n",
      "Epoch 20, CIFAR-10 Batch 2:  Loss:     0.2393 Validation Accuracy: 0.625800\n",
      "Epoch 20, CIFAR-10 Batch 3:  Loss:     0.2482 Validation Accuracy: 0.602000\n",
      "Epoch 20, CIFAR-10 Batch 4:  Loss:     0.3145 Validation Accuracy: 0.607200\n",
      "Epoch 20, CIFAR-10 Batch 5:  Loss:     0.3003 Validation Accuracy: 0.632800\n",
      "Epoch 21, CIFAR-10 Batch 1:  Loss:     0.3007 Validation Accuracy: 0.628400\n",
      "Epoch 21, CIFAR-10 Batch 2:  Loss:     0.2428 Validation Accuracy: 0.631000\n",
      "Epoch 21, CIFAR-10 Batch 3:  Loss:     0.2065 Validation Accuracy: 0.618800\n",
      "Epoch 21, CIFAR-10 Batch 4:  Loss:     0.2785 Validation Accuracy: 0.619000\n",
      "Epoch 21, CIFAR-10 Batch 5:  Loss:     0.3242 Validation Accuracy: 0.630200\n",
      "Epoch 22, CIFAR-10 Batch 1:  Loss:     0.3318 Validation Accuracy: 0.635000\n",
      "Epoch 22, CIFAR-10 Batch 2:  Loss:     0.2436 Validation Accuracy: 0.615200\n",
      "Epoch 22, CIFAR-10 Batch 3:  Loss:     0.1873 Validation Accuracy: 0.620400\n",
      "Epoch 22, CIFAR-10 Batch 4:  Loss:     0.2293 Validation Accuracy: 0.624200\n",
      "Epoch 22, CIFAR-10 Batch 5:  Loss:     0.2433 Validation Accuracy: 0.637000\n",
      "Epoch 23, CIFAR-10 Batch 1:  Loss:     0.3181 Validation Accuracy: 0.626800\n",
      "Epoch 23, CIFAR-10 Batch 2:  Loss:     0.1767 Validation Accuracy: 0.630600\n",
      "Epoch 23, CIFAR-10 Batch 3:  Loss:     0.1373 Validation Accuracy: 0.628800\n",
      "Epoch 23, CIFAR-10 Batch 4:  Loss:     0.2003 Validation Accuracy: 0.638600\n",
      "Epoch 23, CIFAR-10 Batch 5:  Loss:     0.2272 Validation Accuracy: 0.643200\n",
      "Epoch 24, CIFAR-10 Batch 1:  Loss:     0.3168 Validation Accuracy: 0.623800\n",
      "Epoch 24, CIFAR-10 Batch 2:  Loss:     0.2206 Validation Accuracy: 0.617800\n",
      "Epoch 24, CIFAR-10 Batch 3:  Loss:     0.1866 Validation Accuracy: 0.621400\n",
      "Epoch 24, CIFAR-10 Batch 4:  Loss:     0.1950 Validation Accuracy: 0.620000\n",
      "Epoch 24, CIFAR-10 Batch 5:  Loss:     0.2001 Validation Accuracy: 0.645600\n",
      "Epoch 25, CIFAR-10 Batch 1:  Loss:     0.3062 Validation Accuracy: 0.606200\n",
      "Epoch 25, CIFAR-10 Batch 2:  Loss:     0.1741 Validation Accuracy: 0.623800\n",
      "Epoch 25, CIFAR-10 Batch 3:  Loss:     0.1206 Validation Accuracy: 0.595000\n",
      "Epoch 25, CIFAR-10 Batch 4:  Loss:     0.1278 Validation Accuracy: 0.631200\n",
      "Epoch 25, CIFAR-10 Batch 5:  Loss:     0.2285 Validation Accuracy: 0.639200\n",
      "Epoch 26, CIFAR-10 Batch 1:  Loss:     0.2626 Validation Accuracy: 0.618600\n",
      "Epoch 26, CIFAR-10 Batch 2:  Loss:     0.1214 Validation Accuracy: 0.622800\n",
      "Epoch 26, CIFAR-10 Batch 3:  Loss:     0.1158 Validation Accuracy: 0.611800\n",
      "Epoch 26, CIFAR-10 Batch 4:  Loss:     0.1268 Validation Accuracy: 0.622200\n",
      "Epoch 26, CIFAR-10 Batch 5:  Loss:     0.1997 Validation Accuracy: 0.619200\n",
      "Epoch 27, CIFAR-10 Batch 1:  Loss:     0.2939 Validation Accuracy: 0.621600\n",
      "Epoch 27, CIFAR-10 Batch 2:  Loss:     0.1184 Validation Accuracy: 0.621000\n",
      "Epoch 27, CIFAR-10 Batch 3:  Loss:     0.1060 Validation Accuracy: 0.630400\n",
      "Epoch 27, CIFAR-10 Batch 4:  Loss:     0.1020 Validation Accuracy: 0.632400\n",
      "Epoch 27, CIFAR-10 Batch 5:  Loss:     0.1401 Validation Accuracy: 0.633200\n",
      "Epoch 28, CIFAR-10 Batch 1:  Loss:     0.2411 Validation Accuracy: 0.624000\n",
      "Epoch 28, CIFAR-10 Batch 2:  Loss:     0.1138 Validation Accuracy: 0.601400\n",
      "Epoch 28, CIFAR-10 Batch 3:  Loss:     0.0729 Validation Accuracy: 0.632600\n",
      "Epoch 28, CIFAR-10 Batch 4:  Loss:     0.0829 Validation Accuracy: 0.648800\n",
      "Epoch 28, CIFAR-10 Batch 5:  Loss:     0.1016 Validation Accuracy: 0.638800\n",
      "Epoch 29, CIFAR-10 Batch 1:  Loss:     0.2327 Validation Accuracy: 0.635800\n",
      "Epoch 29, CIFAR-10 Batch 2:  Loss:     0.1064 Validation Accuracy: 0.618800\n",
      "Epoch 29, CIFAR-10 Batch 3:  Loss:     0.0840 Validation Accuracy: 0.622200\n",
      "Epoch 29, CIFAR-10 Batch 4:  Loss:     0.0740 Validation Accuracy: 0.647600\n",
      "Epoch 29, CIFAR-10 Batch 5:  Loss:     0.1117 Validation Accuracy: 0.632600\n",
      "Epoch 30, CIFAR-10 Batch 1:  Loss:     0.2148 Validation Accuracy: 0.623200\n",
      "Epoch 30, CIFAR-10 Batch 2:  Loss:     0.0888 Validation Accuracy: 0.620600\n",
      "Epoch 30, CIFAR-10 Batch 3:  Loss:     0.0751 Validation Accuracy: 0.641800\n",
      "Epoch 30, CIFAR-10 Batch 4:  Loss:     0.0566 Validation Accuracy: 0.636200\n",
      "Epoch 30, CIFAR-10 Batch 5:  Loss:     0.0719 Validation Accuracy: 0.643800\n",
      "Epoch 31, CIFAR-10 Batch 1:  Loss:     0.1434 Validation Accuracy: 0.640400\n",
      "Epoch 31, CIFAR-10 Batch 2:  Loss:     0.0735 Validation Accuracy: 0.627800\n",
      "Epoch 31, CIFAR-10 Batch 3:  Loss:     0.0488 Validation Accuracy: 0.642000\n",
      "Epoch 31, CIFAR-10 Batch 4:  Loss:     0.0334 Validation Accuracy: 0.632200\n",
      "Epoch 31, CIFAR-10 Batch 5:  Loss:     0.0654 Validation Accuracy: 0.646800\n",
      "Epoch 32, CIFAR-10 Batch 1:  Loss:     0.1604 Validation Accuracy: 0.635800\n",
      "Epoch 32, CIFAR-10 Batch 2:  Loss:     0.0771 Validation Accuracy: 0.625200\n",
      "Epoch 32, CIFAR-10 Batch 3:  Loss:     0.0377 Validation Accuracy: 0.644400\n",
      "Epoch 32, CIFAR-10 Batch 4:  Loss:     0.0520 Validation Accuracy: 0.612800\n",
      "Epoch 32, CIFAR-10 Batch 5:  Loss:     0.0904 Validation Accuracy: 0.649200\n",
      "Epoch 33, CIFAR-10 Batch 1:  Loss:     0.1441 Validation Accuracy: 0.632800\n",
      "Epoch 33, CIFAR-10 Batch 2:  Loss:     0.0580 Validation Accuracy: 0.627000\n",
      "Epoch 33, CIFAR-10 Batch 3:  Loss:     0.0280 Validation Accuracy: 0.649600\n",
      "Epoch 33, CIFAR-10 Batch 4:  Loss:     0.0317 Validation Accuracy: 0.626600\n",
      "Epoch 33, CIFAR-10 Batch 5:  Loss:     0.0581 Validation Accuracy: 0.642200\n",
      "Epoch 34, CIFAR-10 Batch 1:  Loss:     0.1292 Validation Accuracy: 0.628000\n",
      "Epoch 34, CIFAR-10 Batch 2:  Loss:     0.0564 Validation Accuracy: 0.626800\n",
      "Epoch 34, CIFAR-10 Batch 3:  Loss:     0.0379 Validation Accuracy: 0.640600\n",
      "Epoch 34, CIFAR-10 Batch 4:  Loss:     0.0288 Validation Accuracy: 0.627800\n",
      "Epoch 34, CIFAR-10 Batch 5:  Loss:     0.0455 Validation Accuracy: 0.645200\n",
      "Epoch 35, CIFAR-10 Batch 1:  Loss:     0.0920 Validation Accuracy: 0.623200\n",
      "Epoch 35, CIFAR-10 Batch 2:  Loss:     0.0431 Validation Accuracy: 0.624000\n",
      "Epoch 35, CIFAR-10 Batch 3:  Loss:     0.0240 Validation Accuracy: 0.632800\n",
      "Epoch 35, CIFAR-10 Batch 4:  Loss:     0.0453 Validation Accuracy: 0.623200\n",
      "Epoch 35, CIFAR-10 Batch 5:  Loss:     0.0547 Validation Accuracy: 0.637000\n",
      "Epoch 36, CIFAR-10 Batch 1:  Loss:     0.0984 Validation Accuracy: 0.617200\n",
      "Epoch 36, CIFAR-10 Batch 2:  Loss:     0.0425 Validation Accuracy: 0.645200\n",
      "Epoch 36, CIFAR-10 Batch 3:  Loss:     0.0127 Validation Accuracy: 0.634800\n",
      "Epoch 36, CIFAR-10 Batch 4:  Loss:     0.0524 Validation Accuracy: 0.640000\n",
      "Epoch 36, CIFAR-10 Batch 5:  Loss:     0.0267 Validation Accuracy: 0.640400\n",
      "Epoch 37, CIFAR-10 Batch 1:  Loss:     0.0900 Validation Accuracy: 0.615400\n",
      "Epoch 37, CIFAR-10 Batch 2:  Loss:     0.0330 Validation Accuracy: 0.629000\n",
      "Epoch 37, CIFAR-10 Batch 3:  Loss:     0.0162 Validation Accuracy: 0.635400\n",
      "Epoch 37, CIFAR-10 Batch 4:  Loss:     0.0399 Validation Accuracy: 0.637800\n",
      "Epoch 37, CIFAR-10 Batch 5:  Loss:     0.0259 Validation Accuracy: 0.636600\n",
      "Epoch 38, CIFAR-10 Batch 1:  Loss:     0.0899 Validation Accuracy: 0.619800\n",
      "Epoch 38, CIFAR-10 Batch 2:  Loss:     0.0378 Validation Accuracy: 0.633400\n",
      "Epoch 38, CIFAR-10 Batch 3:  Loss:     0.0101 Validation Accuracy: 0.636400\n",
      "Epoch 38, CIFAR-10 Batch 4:  Loss:     0.0190 Validation Accuracy: 0.642800\n",
      "Epoch 38, CIFAR-10 Batch 5:  Loss:     0.0268 Validation Accuracy: 0.636600\n",
      "Epoch 39, CIFAR-10 Batch 1:  Loss:     0.0569 Validation Accuracy: 0.619800\n",
      "Epoch 39, CIFAR-10 Batch 2:  Loss:     0.0374 Validation Accuracy: 0.624000\n",
      "Epoch 39, CIFAR-10 Batch 3:  Loss:     0.0079 Validation Accuracy: 0.634800\n",
      "Epoch 39, CIFAR-10 Batch 4:  Loss:     0.0073 Validation Accuracy: 0.642200\n",
      "Epoch 39, CIFAR-10 Batch 5:  Loss:     0.0208 Validation Accuracy: 0.631200\n",
      "Epoch 40, CIFAR-10 Batch 1:  Loss:     0.0499 Validation Accuracy: 0.626800\n",
      "Epoch 40, CIFAR-10 Batch 2:  Loss:     0.0220 Validation Accuracy: 0.622800\n",
      "Epoch 40, CIFAR-10 Batch 3:  Loss:     0.0080 Validation Accuracy: 0.639600\n",
      "Epoch 40, CIFAR-10 Batch 4:  Loss:     0.0163 Validation Accuracy: 0.637400\n",
      "Epoch 40, CIFAR-10 Batch 5:  Loss:     0.0512 Validation Accuracy: 0.631000\n",
      "Epoch 41, CIFAR-10 Batch 1:  Loss:     0.0400 Validation Accuracy: 0.629000\n",
      "Epoch 41, CIFAR-10 Batch 2:  Loss:     0.0199 Validation Accuracy: 0.632800\n",
      "Epoch 41, CIFAR-10 Batch 3:  Loss:     0.0186 Validation Accuracy: 0.645200\n",
      "Epoch 41, CIFAR-10 Batch 4:  Loss:     0.0120 Validation Accuracy: 0.644200\n",
      "Epoch 41, CIFAR-10 Batch 5:  Loss:     0.0228 Validation Accuracy: 0.624400\n",
      "Epoch 42, CIFAR-10 Batch 1:  Loss:     0.0382 Validation Accuracy: 0.629200\n",
      "Epoch 42, CIFAR-10 Batch 2:  Loss:     0.0297 Validation Accuracy: 0.630400\n",
      "Epoch 42, CIFAR-10 Batch 3:  Loss:     0.0095 Validation Accuracy: 0.638800\n",
      "Epoch 42, CIFAR-10 Batch 4:  Loss:     0.0021 Validation Accuracy: 0.645400\n",
      "Epoch 42, CIFAR-10 Batch 5:  Loss:     0.0158 Validation Accuracy: 0.630200\n"
     ]
    }
   ],
   "source": [
    "\"\"\"\n",
    "DON'T MODIFY ANYTHING IN THIS CELL\n",
    "\"\"\"\n",
    "save_model_path = './image_classification'\n",
    "\n",
    "print('Training...')\n",
    "with tf.Session() as sess:\n",
    "    # Initializing the variables\n",
    "    sess.run(tf.global_variables_initializer())\n",
    "    \n",
    "    # Training cycle\n",
    "    for epoch in range(epochs):\n",
    "        # Loop over all batches\n",
    "        n_batches = 5\n",
    "        for batch_i in range(1, n_batches + 1):\n",
    "            for batch_features, batch_labels in helper.load_preprocess_training_batch(batch_i, batch_size):\n",
    "                train_neural_network(sess, optimizer, keep_probability, batch_features, batch_labels)\n",
    "            print('Epoch {:>2}, CIFAR-10 Batch {}:  '.format(epoch + 1, batch_i), end='')\n",
    "            print_stats(sess, batch_features, batch_labels, cost, accuracy)\n",
    "            \n",
    "    # Save Model\n",
    "    saver = tf.train.Saver()\n",
    "    save_path = saver.save(sess, save_model_path)"
   ]
  },
  {
   "cell_type": "markdown",
   "metadata": {},
   "source": [
    "# Checkpoint\n",
    "The model has been saved to disk.\n",
    "## Test Model\n",
    "Test your model against the test dataset.  This will be your final accuracy. You should have an accuracy greater than 50%. If you don't, keep tweaking the model architecture and parameters."
   ]
  },
  {
   "cell_type": "code",
   "execution_count": 50,
   "metadata": {
    "collapsed": false
   },
   "outputs": [
    {
     "name": "stdout",
     "output_type": "stream",
     "text": [
      "Testing Accuracy: 0.6265625\n",
      "\n"
     ]
    },
    {
     "data": {
      "image/png": "[encoded data removed]",
      "text/plain": [
       "<matplotlib.figure.Figure at 0x7f18041fde10>"
      ]
     },
     "metadata": {
      "image/png": {
       "height": 319,
       "width": 355
      }
     },
     "output_type": "display_data"
    }
   ],
   "source": [
    "\"\"\"\n",
    "DON'T MODIFY ANYTHING IN THIS CELL\n",
    "\"\"\"\n",
    "%matplotlib inline\n",
    "%config InlineBackend.figure_format = 'retina'\n",
    "\n",
    "import tensorflow as tf\n",
    "import pickle\n",
    "import helper\n",
    "import random\n",
    "\n",
    "# Set batch size if not already set\n",
    "try:\n",
    "    if batch_size:\n",
    "        pass\n",
    "except NameError:\n",
    "    batch_size = 64\n",
    "\n",
    "save_model_path = './image_classification'\n",
    "n_samples = 4\n",
    "top_n_predictions = 3\n",
    "\n",
    "def test_model():\n",
    "    \"\"\"\n",
    "    Test the saved model against the test dataset\n",
    "    \"\"\"\n",
    "\n",
    "    test_features, test_labels = pickle.load(open('preprocess_training.p', mode='rb'))\n",
    "    loaded_graph = tf.Graph()\n",
    "\n",
    "    with tf.Session(graph=loaded_graph) as sess:\n",
    "        # Load model\n",
    "        loader = tf.train.import_meta_graph(save_model_path + '.meta')\n",
    "        loader.restore(sess, save_model_path)\n",
    "\n",
    "        # Get Tensors from loaded model\n",
    "        loaded_x = loaded_graph.get_tensor_by_name('x:0')\n",
    "        loaded_y = loaded_graph.get_tensor_by_name('y:0')\n",
    "        loaded_keep_prob = loaded_graph.get_tensor_by_name('keep_prob:0')\n",
    "        loaded_logits = loaded_graph.get_tensor_by_name('logits:0')\n",
    "        loaded_acc = loaded_graph.get_tensor_by_name('accuracy:0')\n",
    "        \n",
    "        # Get accuracy in batches for memory limitations\n",
    "        test_batch_acc_total = 0\n",
    "        test_batch_count = 0\n",
    "        \n",
    "        for train_feature_batch, train_label_batch in helper.batch_features_labels(test_features, test_labels, batch_size):\n",
    "            test_batch_acc_total += sess.run(\n",
    "                loaded_acc,\n",
    "                feed_dict={loaded_x: train_feature_batch, loaded_y: train_label_batch, loaded_keep_prob: 1.0})\n",
    "            test_batch_count += 1\n",
    "\n",
    "        print('Testing Accuracy: {}\\n'.format(test_batch_acc_total/test_batch_count))\n",
    "\n",
    "        # Print Random Samples\n",
    "        random_test_features, random_test_labels = tuple(zip(*random.sample(list(zip(test_features, test_labels)), n_samples)))\n",
    "        random_test_predictions = sess.run(\n",
    "            tf.nn.top_k(tf.nn.softmax(loaded_logits), top_n_predictions),\n",
    "            feed_dict={loaded_x: random_test_features, loaded_y: random_test_labels, loaded_keep_prob: 1.0})\n",
    "        helper.display_image_predictions(random_test_features, random_test_labels, random_test_predictions)\n",
    "\n",
    "\n",
    "test_model()"
   ]
  },
  {
   "cell_type": "markdown",
   "metadata": {},
   "source": [
    "## Why 50-80% Accuracy?\n",
    "You might be wondering why you can't get an accuracy any higher. First things first, 50% isn't bad for a simple CNN.  Pure guessing would get you 10% accuracy. That's because there are many more techniques that can be applied to your model and we recemmond that once you are done with this project, you explore!\n",
    "\n",
    "## Submitting This Project\n",
    "When submitting this project, make sure to run all the cells before saving the notebook.  Save the notebook file as \"image_classification.ipynb\" and save it as a HTML file under \"File\" -> \"Download as\".  Include the \"helper.py\" and \"problem_unittests.py\" files in your submission."
   ]
  },
  {
   "cell_type": "code",
   "execution_count": null,
   "metadata": {
    "collapsed": true
   },
   "outputs": [],
   "source": []
  }
 ],
 "metadata": {
  "anaconda-cloud": {},
  "kernelspec": {
   "display_name": "Python 3",
   "language": "python",
   "name": "python3"
  },
  "language_info": {
   "codemirror_mode": {
    "name": "ipython",
    "version": 3
   },
   "file_extension": ".py",
   "mimetype": "text/x-python",
   "name": "python",
   "nbconvert_exporter": "python",
   "pygments_lexer": "ipython3",
   "version": "3.5.2"
  },
  "widgets": {
   "state": {},
   "version": "1.1.2"
  }
 },
 "nbformat": 4,
 "nbformat_minor": 1
}
